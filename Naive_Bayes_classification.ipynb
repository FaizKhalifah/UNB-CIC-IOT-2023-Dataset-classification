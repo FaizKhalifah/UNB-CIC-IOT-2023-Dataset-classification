{
  "nbformat": 4,
  "nbformat_minor": 0,
  "metadata": {
    "colab": {
      "provenance": [],
      "authorship_tag": "ABX9TyOUDDF3sQCorSy73GxUkWI5",
      "include_colab_link": true
    },
    "kernelspec": {
      "name": "python3",
      "display_name": "Python 3"
    },
    "language_info": {
      "name": "python"
    }
  },
  "cells": [
    {
      "cell_type": "markdown",
      "metadata": {
        "id": "view-in-github",
        "colab_type": "text"
      },
      "source": [
        "<a href=\"https://colab.research.google.com/github/FaizKhalifah/UNB-CIC-IOT-2023-Dataset-classification/blob/main/Naive_Bayes_classification.ipynb\" target=\"_parent\"><img src=\"https://colab.research.google.com/assets/colab-badge.svg\" alt=\"Open In Colab\"/></a>"
      ]
    },
    {
      "cell_type": "markdown",
      "source": [
        "## Import dataset"
      ],
      "metadata": {
        "id": "QqfhfFqs6Q4F"
      }
    },
    {
      "cell_type": "code",
      "execution_count": null,
      "metadata": {
        "colab": {
          "base_uri": "https://localhost:8080/",
          "height": 71
        },
        "id": "f_TxAiAx58lC",
        "outputId": "c43e4120-1e12-4905-b845-8867c6c259e0"
      },
      "outputs": [
        {
          "output_type": "display_data",
          "data": {
            "text/plain": [
              "<IPython.core.display.HTML object>"
            ],
            "text/html": [
              "\n",
              "     <input type=\"file\" id=\"files-c321cff6-fa54-466a-93e5-b72a6f30ea0d\" name=\"files[]\" multiple disabled\n",
              "        style=\"border:none\" />\n",
              "     <output id=\"result-c321cff6-fa54-466a-93e5-b72a6f30ea0d\">\n",
              "      Upload widget is only available when the cell has been executed in the\n",
              "      current browser session. Please rerun this cell to enable.\n",
              "      </output>\n",
              "      <script>// Copyright 2017 Google LLC\n",
              "//\n",
              "// Licensed under the Apache License, Version 2.0 (the \"License\");\n",
              "// you may not use this file except in compliance with the License.\n",
              "// You may obtain a copy of the License at\n",
              "//\n",
              "//      http://www.apache.org/licenses/LICENSE-2.0\n",
              "//\n",
              "// Unless required by applicable law or agreed to in writing, software\n",
              "// distributed under the License is distributed on an \"AS IS\" BASIS,\n",
              "// WITHOUT WARRANTIES OR CONDITIONS OF ANY KIND, either express or implied.\n",
              "// See the License for the specific language governing permissions and\n",
              "// limitations under the License.\n",
              "\n",
              "/**\n",
              " * @fileoverview Helpers for google.colab Python module.\n",
              " */\n",
              "(function(scope) {\n",
              "function span(text, styleAttributes = {}) {\n",
              "  const element = document.createElement('span');\n",
              "  element.textContent = text;\n",
              "  for (const key of Object.keys(styleAttributes)) {\n",
              "    element.style[key] = styleAttributes[key];\n",
              "  }\n",
              "  return element;\n",
              "}\n",
              "\n",
              "// Max number of bytes which will be uploaded at a time.\n",
              "const MAX_PAYLOAD_SIZE = 100 * 1024;\n",
              "\n",
              "function _uploadFiles(inputId, outputId) {\n",
              "  const steps = uploadFilesStep(inputId, outputId);\n",
              "  const outputElement = document.getElementById(outputId);\n",
              "  // Cache steps on the outputElement to make it available for the next call\n",
              "  // to uploadFilesContinue from Python.\n",
              "  outputElement.steps = steps;\n",
              "\n",
              "  return _uploadFilesContinue(outputId);\n",
              "}\n",
              "\n",
              "// This is roughly an async generator (not supported in the browser yet),\n",
              "// where there are multiple asynchronous steps and the Python side is going\n",
              "// to poll for completion of each step.\n",
              "// This uses a Promise to block the python side on completion of each step,\n",
              "// then passes the result of the previous step as the input to the next step.\n",
              "function _uploadFilesContinue(outputId) {\n",
              "  const outputElement = document.getElementById(outputId);\n",
              "  const steps = outputElement.steps;\n",
              "\n",
              "  const next = steps.next(outputElement.lastPromiseValue);\n",
              "  return Promise.resolve(next.value.promise).then((value) => {\n",
              "    // Cache the last promise value to make it available to the next\n",
              "    // step of the generator.\n",
              "    outputElement.lastPromiseValue = value;\n",
              "    return next.value.response;\n",
              "  });\n",
              "}\n",
              "\n",
              "/**\n",
              " * Generator function which is called between each async step of the upload\n",
              " * process.\n",
              " * @param {string} inputId Element ID of the input file picker element.\n",
              " * @param {string} outputId Element ID of the output display.\n",
              " * @return {!Iterable<!Object>} Iterable of next steps.\n",
              " */\n",
              "function* uploadFilesStep(inputId, outputId) {\n",
              "  const inputElement = document.getElementById(inputId);\n",
              "  inputElement.disabled = false;\n",
              "\n",
              "  const outputElement = document.getElementById(outputId);\n",
              "  outputElement.innerHTML = '';\n",
              "\n",
              "  const pickedPromise = new Promise((resolve) => {\n",
              "    inputElement.addEventListener('change', (e) => {\n",
              "      resolve(e.target.files);\n",
              "    });\n",
              "  });\n",
              "\n",
              "  const cancel = document.createElement('button');\n",
              "  inputElement.parentElement.appendChild(cancel);\n",
              "  cancel.textContent = 'Cancel upload';\n",
              "  const cancelPromise = new Promise((resolve) => {\n",
              "    cancel.onclick = () => {\n",
              "      resolve(null);\n",
              "    };\n",
              "  });\n",
              "\n",
              "  // Wait for the user to pick the files.\n",
              "  const files = yield {\n",
              "    promise: Promise.race([pickedPromise, cancelPromise]),\n",
              "    response: {\n",
              "      action: 'starting',\n",
              "    }\n",
              "  };\n",
              "\n",
              "  cancel.remove();\n",
              "\n",
              "  // Disable the input element since further picks are not allowed.\n",
              "  inputElement.disabled = true;\n",
              "\n",
              "  if (!files) {\n",
              "    return {\n",
              "      response: {\n",
              "        action: 'complete',\n",
              "      }\n",
              "    };\n",
              "  }\n",
              "\n",
              "  for (const file of files) {\n",
              "    const li = document.createElement('li');\n",
              "    li.append(span(file.name, {fontWeight: 'bold'}));\n",
              "    li.append(span(\n",
              "        `(${file.type || 'n/a'}) - ${file.size} bytes, ` +\n",
              "        `last modified: ${\n",
              "            file.lastModifiedDate ? file.lastModifiedDate.toLocaleDateString() :\n",
              "                                    'n/a'} - `));\n",
              "    const percent = span('0% done');\n",
              "    li.appendChild(percent);\n",
              "\n",
              "    outputElement.appendChild(li);\n",
              "\n",
              "    const fileDataPromise = new Promise((resolve) => {\n",
              "      const reader = new FileReader();\n",
              "      reader.onload = (e) => {\n",
              "        resolve(e.target.result);\n",
              "      };\n",
              "      reader.readAsArrayBuffer(file);\n",
              "    });\n",
              "    // Wait for the data to be ready.\n",
              "    let fileData = yield {\n",
              "      promise: fileDataPromise,\n",
              "      response: {\n",
              "        action: 'continue',\n",
              "      }\n",
              "    };\n",
              "\n",
              "    // Use a chunked sending to avoid message size limits. See b/62115660.\n",
              "    let position = 0;\n",
              "    do {\n",
              "      const length = Math.min(fileData.byteLength - position, MAX_PAYLOAD_SIZE);\n",
              "      const chunk = new Uint8Array(fileData, position, length);\n",
              "      position += length;\n",
              "\n",
              "      const base64 = btoa(String.fromCharCode.apply(null, chunk));\n",
              "      yield {\n",
              "        response: {\n",
              "          action: 'append',\n",
              "          file: file.name,\n",
              "          data: base64,\n",
              "        },\n",
              "      };\n",
              "\n",
              "      let percentDone = fileData.byteLength === 0 ?\n",
              "          100 :\n",
              "          Math.round((position / fileData.byteLength) * 100);\n",
              "      percent.textContent = `${percentDone}% done`;\n",
              "\n",
              "    } while (position < fileData.byteLength);\n",
              "  }\n",
              "\n",
              "  // All done.\n",
              "  yield {\n",
              "    response: {\n",
              "      action: 'complete',\n",
              "    }\n",
              "  };\n",
              "}\n",
              "\n",
              "scope.google = scope.google || {};\n",
              "scope.google.colab = scope.google.colab || {};\n",
              "scope.google.colab._files = {\n",
              "  _uploadFiles,\n",
              "  _uploadFilesContinue,\n",
              "};\n",
              "})(self);\n",
              "</script> "
            ]
          },
          "metadata": {}
        },
        {
          "output_type": "stream",
          "name": "stdout",
          "text": [
            "Saving kaggle.json to kaggle.json\n"
          ]
        }
      ],
      "source": [
        "from google.colab import files\n",
        "upload = files.upload()"
      ]
    },
    {
      "cell_type": "code",
      "source": [
        "import os\n",
        "os.environ['KAGGLE_CONFIG_DIR'] = '/content'"
      ],
      "metadata": {
        "id": "4NdGNmAY8obN"
      },
      "execution_count": null,
      "outputs": []
    },
    {
      "cell_type": "code",
      "source": [
        "! kaggle datasets download -d madhavmalhotra/unb-cic-iot-dataset"
      ],
      "metadata": {
        "id": "P3dKOtOZ8oqN",
        "colab": {
          "base_uri": "https://localhost:8080/"
        },
        "outputId": "984fa84c-6ced-49c8-88e3-78d61150a382"
      },
      "execution_count": null,
      "outputs": [
        {
          "output_type": "stream",
          "name": "stdout",
          "text": [
            "Warning: Your Kaggle API key is readable by other users on this system! To fix this, you can run 'chmod 600 /content/kaggle.json'\n",
            "Dataset URL: https://www.kaggle.com/datasets/madhavmalhotra/unb-cic-iot-dataset\n",
            "License(s): other\n",
            "Downloading unb-cic-iot-dataset.zip to /content\n",
            "100% 2.77G/2.77G [00:39<00:00, 83.7MB/s]\n",
            "100% 2.77G/2.77G [00:39<00:00, 74.7MB/s]\n"
          ]
        }
      ]
    },
    {
      "cell_type": "code",
      "source": [
        "! chmod 600 /content/kaggle.json"
      ],
      "metadata": {
        "id": "b2GjWJyXzvkG"
      },
      "execution_count": null,
      "outputs": []
    },
    {
      "cell_type": "code",
      "source": [
        "! unzip unb-cic-iot-dataset -d data_siap_pakai"
      ],
      "metadata": {
        "id": "PjkFR3ZKzvuH"
      },
      "execution_count": null,
      "outputs": []
    },
    {
      "cell_type": "code",
      "source": [
        "import pandas as pd\n",
        "import numpy as np\n",
        "from tqdm import tqdm\n",
        "import warnings\n",
        "warnings.filterwarnings('ignore')"
      ],
      "metadata": {
        "id": "VviyVeISzv1y"
      },
      "execution_count": null,
      "outputs": []
    },
    {
      "cell_type": "code",
      "source": [
        "rootFolder = 'data_siap_pakai/'\n",
        "dataFolder = rootFolder+\"wataiData/\"\n",
        "csvFolder = dataFolder+\"csv/\"\n",
        "datasetFolder = csvFolder+\"datasets/\""
      ],
      "metadata": {
        "id": "6qvaWVtW1nYL"
      },
      "execution_count": null,
      "outputs": []
    },
    {
      "cell_type": "markdown",
      "source": [
        "## Membaca Dataset"
      ],
      "metadata": {
        "id": "VX_xVbAg6Z7R"
      }
    },
    {
      "cell_type": "code",
      "source": [
        "df_sets = [k for k in os.listdir(datasetFolder) if k.endswith('.csv')]\n",
        "df_sets.sort()\n",
        "training_sets = df_sets[:int(len(df_sets)*.8)]\n",
        "test_sets = df_sets[int(len(df_sets)*.8):]"
      ],
      "metadata": {
        "id": "yZNukIWf5MZ2"
      },
      "execution_count": null,
      "outputs": []
    },
    {
      "cell_type": "code",
      "source": [
        "X_columns = [\n",
        "    'flow_duration', 'Header_Length', 'Protocol Type', 'Duration',\n",
        "       'Rate', 'Srate', 'Drate', 'fin_flag_number', 'syn_flag_number',\n",
        "       'rst_flag_number', 'psh_flag_number', 'ack_flag_number',\n",
        "       'ece_flag_number', 'cwr_flag_number', 'ack_count',\n",
        "       'syn_count', 'fin_count', 'urg_count', 'rst_count',\n",
        "    'HTTP', 'HTTPS', 'DNS', 'Telnet', 'SMTP', 'SSH', 'IRC', 'TCP',\n",
        "       'UDP', 'DHCP', 'ARP', 'ICMP', 'IPv', 'LLC', 'Tot sum', 'Min',\n",
        "       'Max', 'AVG', 'Std', 'Tot size', 'IAT', 'Number', 'Magnitue',\n",
        "       'Radius', 'Covariance', 'Variance', 'Weight',\n",
        "]\n",
        "y_column = 'label'"
      ],
      "metadata": {
        "id": "glEnooTE1Fq7"
      },
      "execution_count": null,
      "outputs": []
    },
    {
      "cell_type": "markdown",
      "source": [
        "## Scaling"
      ],
      "metadata": {
        "id": "nbSx812w6d83"
      }
    },
    {
      "cell_type": "code",
      "source": [
        "from sklearn.preprocessing import MinMaxScaler, StandardScaler\n",
        "scaler = StandardScaler()"
      ],
      "metadata": {
        "id": "Vott85z01F12"
      },
      "execution_count": null,
      "outputs": []
    },
    {
      "cell_type": "code",
      "source": [
        "for train_set in tqdm(training_sets):\n",
        "    scaler.fit(pd.read_csv(datasetFolder + train_set)[X_columns])"
      ],
      "metadata": {
        "colab": {
          "base_uri": "https://localhost:8080/"
        },
        "id": "LJ60TG3N6ge_",
        "outputId": "3ae74051-57d9-4bd7-c7a1-b98f1c22d8ef"
      },
      "execution_count": null,
      "outputs": [
        {
          "output_type": "stream",
          "name": "stderr",
          "text": [
            "100%|██████████| 135/135 [07:13<00:00,  3.21s/it]\n"
          ]
        }
      ]
    },
    {
      "cell_type": "markdown",
      "source": [
        "## Training"
      ],
      "metadata": {
        "id": "TDA061CZ9APe"
      }
    },
    {
      "cell_type": "code",
      "source": [
        "from sklearn.naive_bayes import GaussianNB\n",
        "from sklearn.metrics import accuracy_score, classification_report"
      ],
      "metadata": {
        "id": "ZrkNjxRc6glm"
      },
      "execution_count": null,
      "outputs": []
    },
    {
      "cell_type": "code",
      "source": [
        "# Initialize the Naive Bayes classifier\n",
        "nb_model = GaussianNB()\n",
        "\n",
        "# Train the model using the training data\n",
        "for train_set in tqdm(training_sets):\n",
        "    df_train = pd.read_csv(datasetFolder + train_set)\n",
        "    X_train = scaler.transform(df_train[X_columns])\n",
        "    y_train = df_train[y_column]  # assuming 'class' is the target column name\n",
        "    nb_model.partial_fit(X_train, y_train, classes=np.unique(y_train))\n"
      ],
      "metadata": {
        "colab": {
          "base_uri": "https://localhost:8080/"
        },
        "id": "TUiNDy239Ehp",
        "outputId": "2b2f74b5-38d5-4cfb-fe2e-12c4e66a7365"
      },
      "execution_count": null,
      "outputs": [
        {
          "output_type": "stream",
          "name": "stderr",
          "text": [
            "100%|██████████| 135/135 [08:28<00:00,  3.77s/it]\n"
          ]
        }
      ]
    },
    {
      "cell_type": "markdown",
      "source": [
        "## Evaluate"
      ],
      "metadata": {
        "id": "SH5uYGKwV2-9"
      }
    },
    {
      "cell_type": "code",
      "source": [
        "# Evaluate the model using the test data\n",
        "all_predictions = []\n",
        "all_true_labels = []\n",
        "\n",
        "for test_set in tqdm(test_sets):\n",
        "    df_test = pd.read_csv(datasetFolder + test_set)\n",
        "    X_test = scaler.transform(df_test[X_columns])\n",
        "    y_test = df_test[y_column]  # assuming 'class' is the target column name\n",
        "    predictions = nb_model.predict(X_test)\n",
        "\n",
        "    all_predictions.extend(predictions)\n",
        "    all_true_labels.extend(y_test)\n",
        "\n",
        "# Calculate accuracy and other metrics\n",
        "accuracy = accuracy_score(all_true_labels, all_predictions)\n",
        "report = classification_report(all_true_labels, all_predictions)\n",
        "\n"
      ],
      "metadata": {
        "colab": {
          "base_uri": "https://localhost:8080/"
        },
        "id": "dYEk4TbV9Epg",
        "outputId": "42f05564-48be-4ab4-d16e-ba3c726f2317"
      },
      "execution_count": null,
      "outputs": [
        {
          "output_type": "stream",
          "name": "stderr",
          "text": [
            "100%|██████████| 34/34 [03:57<00:00,  6.99s/it]\n"
          ]
        }
      ]
    },
    {
      "cell_type": "code",
      "source": [
        "print(f\"Accuracy: {accuracy}\")\n",
        "print(f\"Classification Report:\\n{report}\")"
      ],
      "metadata": {
        "colab": {
          "base_uri": "https://localhost:8080/"
        },
        "id": "T0k3KASd9Eyr",
        "outputId": "63a00cfd-545d-4a19-e87a-a84849269204"
      },
      "execution_count": null,
      "outputs": [
        {
          "output_type": "stream",
          "name": "stdout",
          "text": [
            "Accuracy: 0.7610609738088218\n",
            "Classification Report:\n",
            "                         precision    recall  f1-score   support\n",
            "\n",
            "       Backdoor_Malware       0.00      0.04      0.00       728\n",
            "          BenignTraffic       0.75      0.37      0.49    243322\n",
            "       BrowserHijacking       0.00      0.19      0.01      1250\n",
            "       CommandInjection       0.01      0.22      0.01      1154\n",
            " DDoS-ACK_Fragmentation       1.00      0.89      0.94     62723\n",
            "        DDoS-HTTP_Flood       0.05      0.01      0.02      6450\n",
            "        DDoS-ICMP_Flood       1.00      1.00      1.00   1594776\n",
            "DDoS-ICMP_Fragmentation       0.99      0.97      0.98    100723\n",
            "      DDoS-PSHACK_Flood       1.00      0.98      0.99    907911\n",
            "       DDoS-RSTFINFlood       1.00      1.00      1.00    896126\n",
            "         DDoS-SYN_Flood       0.64      0.91      0.75    900820\n",
            "         DDoS-SlowLoris       0.16      0.87      0.27      5278\n",
            "DDoS-SynonymousIP_Flood       0.72      0.69      0.71    795606\n",
            "         DDoS-TCP_Flood       0.64      0.91      0.75    996211\n",
            "         DDoS-UDP_Flood       0.75      0.75      0.75   1196417\n",
            " DDoS-UDP_Fragmentation       1.00      0.97      0.98     63110\n",
            "           DNS_Spoofing       0.06      0.00      0.00     39810\n",
            "   DictionaryBruteForce       0.36      0.17      0.23      2983\n",
            "         DoS-HTTP_Flood       0.13      0.85      0.23     15758\n",
            "          DoS-SYN_Flood       0.76      0.08      0.15    449881\n",
            "          DoS-TCP_Flood       0.54      0.15      0.23    591960\n",
            "          DoS-UDP_Flood       0.60      0.59      0.60    734568\n",
            "       MITM-ArpSpoofing       0.80      0.19      0.30     67988\n",
            "     Mirai-greeth_flood       0.58      0.98      0.73    220108\n",
            "      Mirai-greip_flood       0.64      0.03      0.06    166195\n",
            "         Mirai-udpplain       1.00      0.99      0.99    197374\n",
            "    Recon-HostDiscovery       0.46      0.00      0.00     29763\n",
            "           Recon-OSScan       0.10      0.00      0.01     21696\n",
            "        Recon-PingSweep       0.03      0.10      0.05       520\n",
            "         Recon-PortScan       0.24      0.28      0.26     18429\n",
            "           SqlInjection       0.01      0.90      0.02      1160\n",
            "       Uploading_Attack       0.00      0.00      0.00       263\n",
            "      VulnerabilityScan       0.26      0.31      0.29      8222\n",
            "                    XSS       0.00      0.12      0.01       878\n",
            "\n",
            "               accuracy                           0.76  10340161\n",
            "              macro avg       0.48      0.49      0.41  10340161\n",
            "           weighted avg       0.78      0.76      0.74  10340161\n",
            "\n"
          ]
        }
      ]
    },
    {
      "cell_type": "code",
      "source": [],
      "metadata": {
        "id": "U7D9EBH16gtA"
      },
      "execution_count": null,
      "outputs": []
    }
  ]
}