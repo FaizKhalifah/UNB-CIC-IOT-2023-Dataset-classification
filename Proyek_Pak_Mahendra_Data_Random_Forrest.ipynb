{
  "nbformat": 4,
  "nbformat_minor": 0,
  "metadata": {
    "colab": {
      "provenance": [],
      "authorship_tag": "ABX9TyP0i3DAZqUUL7zUuQsrHOww",
      "include_colab_link": true
    },
    "kernelspec": {
      "name": "python3",
      "display_name": "Python 3"
    },
    "language_info": {
      "name": "python"
    }
  },
  "cells": [
    {
      "cell_type": "markdown",
      "metadata": {
        "id": "view-in-github",
        "colab_type": "text"
      },
      "source": [
        "<a href=\"https://colab.research.google.com/github/FaizKhalifah/UNB-CIC-IOT-2023-Dataset-classification/blob/main/Proyek_Pak_Mahendra_Data_Random_Forrest.ipynb\" target=\"_parent\"><img src=\"https://colab.research.google.com/assets/colab-badge.svg\" alt=\"Open In Colab\"/></a>"
      ]
    },
    {
      "cell_type": "markdown",
      "source": [
        "## Import Dataset"
      ],
      "metadata": {
        "id": "EBTowM9GVAmB"
      }
    },
    {
      "cell_type": "code",
      "execution_count": null,
      "metadata": {
        "colab": {
          "base_uri": "https://localhost:8080/",
          "height": 71
        },
        "id": "pZ0Ad1UXUrH3",
        "outputId": "6e609049-9540-4c32-d523-26f431b7cb89"
      },
      "outputs": [
        {
          "output_type": "display_data",
          "data": {
            "text/plain": [
              "<IPython.core.display.HTML object>"
            ],
            "text/html": [
              "\n",
              "     <input type=\"file\" id=\"files-86aac6d3-bd54-4503-b7ce-ad06039838f8\" name=\"files[]\" multiple disabled\n",
              "        style=\"border:none\" />\n",
              "     <output id=\"result-86aac6d3-bd54-4503-b7ce-ad06039838f8\">\n",
              "      Upload widget is only available when the cell has been executed in the\n",
              "      current browser session. Please rerun this cell to enable.\n",
              "      </output>\n",
              "      <script>// Copyright 2017 Google LLC\n",
              "//\n",
              "// Licensed under the Apache License, Version 2.0 (the \"License\");\n",
              "// you may not use this file except in compliance with the License.\n",
              "// You may obtain a copy of the License at\n",
              "//\n",
              "//      http://www.apache.org/licenses/LICENSE-2.0\n",
              "//\n",
              "// Unless required by applicable law or agreed to in writing, software\n",
              "// distributed under the License is distributed on an \"AS IS\" BASIS,\n",
              "// WITHOUT WARRANTIES OR CONDITIONS OF ANY KIND, either express or implied.\n",
              "// See the License for the specific language governing permissions and\n",
              "// limitations under the License.\n",
              "\n",
              "/**\n",
              " * @fileoverview Helpers for google.colab Python module.\n",
              " */\n",
              "(function(scope) {\n",
              "function span(text, styleAttributes = {}) {\n",
              "  const element = document.createElement('span');\n",
              "  element.textContent = text;\n",
              "  for (const key of Object.keys(styleAttributes)) {\n",
              "    element.style[key] = styleAttributes[key];\n",
              "  }\n",
              "  return element;\n",
              "}\n",
              "\n",
              "// Max number of bytes which will be uploaded at a time.\n",
              "const MAX_PAYLOAD_SIZE = 100 * 1024;\n",
              "\n",
              "function _uploadFiles(inputId, outputId) {\n",
              "  const steps = uploadFilesStep(inputId, outputId);\n",
              "  const outputElement = document.getElementById(outputId);\n",
              "  // Cache steps on the outputElement to make it available for the next call\n",
              "  // to uploadFilesContinue from Python.\n",
              "  outputElement.steps = steps;\n",
              "\n",
              "  return _uploadFilesContinue(outputId);\n",
              "}\n",
              "\n",
              "// This is roughly an async generator (not supported in the browser yet),\n",
              "// where there are multiple asynchronous steps and the Python side is going\n",
              "// to poll for completion of each step.\n",
              "// This uses a Promise to block the python side on completion of each step,\n",
              "// then passes the result of the previous step as the input to the next step.\n",
              "function _uploadFilesContinue(outputId) {\n",
              "  const outputElement = document.getElementById(outputId);\n",
              "  const steps = outputElement.steps;\n",
              "\n",
              "  const next = steps.next(outputElement.lastPromiseValue);\n",
              "  return Promise.resolve(next.value.promise).then((value) => {\n",
              "    // Cache the last promise value to make it available to the next\n",
              "    // step of the generator.\n",
              "    outputElement.lastPromiseValue = value;\n",
              "    return next.value.response;\n",
              "  });\n",
              "}\n",
              "\n",
              "/**\n",
              " * Generator function which is called between each async step of the upload\n",
              " * process.\n",
              " * @param {string} inputId Element ID of the input file picker element.\n",
              " * @param {string} outputId Element ID of the output display.\n",
              " * @return {!Iterable<!Object>} Iterable of next steps.\n",
              " */\n",
              "function* uploadFilesStep(inputId, outputId) {\n",
              "  const inputElement = document.getElementById(inputId);\n",
              "  inputElement.disabled = false;\n",
              "\n",
              "  const outputElement = document.getElementById(outputId);\n",
              "  outputElement.innerHTML = '';\n",
              "\n",
              "  const pickedPromise = new Promise((resolve) => {\n",
              "    inputElement.addEventListener('change', (e) => {\n",
              "      resolve(e.target.files);\n",
              "    });\n",
              "  });\n",
              "\n",
              "  const cancel = document.createElement('button');\n",
              "  inputElement.parentElement.appendChild(cancel);\n",
              "  cancel.textContent = 'Cancel upload';\n",
              "  const cancelPromise = new Promise((resolve) => {\n",
              "    cancel.onclick = () => {\n",
              "      resolve(null);\n",
              "    };\n",
              "  });\n",
              "\n",
              "  // Wait for the user to pick the files.\n",
              "  const files = yield {\n",
              "    promise: Promise.race([pickedPromise, cancelPromise]),\n",
              "    response: {\n",
              "      action: 'starting',\n",
              "    }\n",
              "  };\n",
              "\n",
              "  cancel.remove();\n",
              "\n",
              "  // Disable the input element since further picks are not allowed.\n",
              "  inputElement.disabled = true;\n",
              "\n",
              "  if (!files) {\n",
              "    return {\n",
              "      response: {\n",
              "        action: 'complete',\n",
              "      }\n",
              "    };\n",
              "  }\n",
              "\n",
              "  for (const file of files) {\n",
              "    const li = document.createElement('li');\n",
              "    li.append(span(file.name, {fontWeight: 'bold'}));\n",
              "    li.append(span(\n",
              "        `(${file.type || 'n/a'}) - ${file.size} bytes, ` +\n",
              "        `last modified: ${\n",
              "            file.lastModifiedDate ? file.lastModifiedDate.toLocaleDateString() :\n",
              "                                    'n/a'} - `));\n",
              "    const percent = span('0% done');\n",
              "    li.appendChild(percent);\n",
              "\n",
              "    outputElement.appendChild(li);\n",
              "\n",
              "    const fileDataPromise = new Promise((resolve) => {\n",
              "      const reader = new FileReader();\n",
              "      reader.onload = (e) => {\n",
              "        resolve(e.target.result);\n",
              "      };\n",
              "      reader.readAsArrayBuffer(file);\n",
              "    });\n",
              "    // Wait for the data to be ready.\n",
              "    let fileData = yield {\n",
              "      promise: fileDataPromise,\n",
              "      response: {\n",
              "        action: 'continue',\n",
              "      }\n",
              "    };\n",
              "\n",
              "    // Use a chunked sending to avoid message size limits. See b/62115660.\n",
              "    let position = 0;\n",
              "    do {\n",
              "      const length = Math.min(fileData.byteLength - position, MAX_PAYLOAD_SIZE);\n",
              "      const chunk = new Uint8Array(fileData, position, length);\n",
              "      position += length;\n",
              "\n",
              "      const base64 = btoa(String.fromCharCode.apply(null, chunk));\n",
              "      yield {\n",
              "        response: {\n",
              "          action: 'append',\n",
              "          file: file.name,\n",
              "          data: base64,\n",
              "        },\n",
              "      };\n",
              "\n",
              "      let percentDone = fileData.byteLength === 0 ?\n",
              "          100 :\n",
              "          Math.round((position / fileData.byteLength) * 100);\n",
              "      percent.textContent = `${percentDone}% done`;\n",
              "\n",
              "    } while (position < fileData.byteLength);\n",
              "  }\n",
              "\n",
              "  // All done.\n",
              "  yield {\n",
              "    response: {\n",
              "      action: 'complete',\n",
              "    }\n",
              "  };\n",
              "}\n",
              "\n",
              "scope.google = scope.google || {};\n",
              "scope.google.colab = scope.google.colab || {};\n",
              "scope.google.colab._files = {\n",
              "  _uploadFiles,\n",
              "  _uploadFilesContinue,\n",
              "};\n",
              "})(self);\n",
              "</script> "
            ]
          },
          "metadata": {}
        },
        {
          "output_type": "stream",
          "name": "stdout",
          "text": [
            "Saving kaggle.json to kaggle.json\n"
          ]
        }
      ],
      "source": [
        "from google.colab import files\n",
        "upload = files.upload()"
      ]
    },
    {
      "cell_type": "code",
      "source": [
        "import os\n",
        "os.environ['KAGGLE_CONFIG_DIR'] = '/content'"
      ],
      "metadata": {
        "id": "iCJ2nuy1Uw15"
      },
      "execution_count": null,
      "outputs": []
    },
    {
      "cell_type": "code",
      "source": [
        "! kaggle datasets download -d madhavmalhotra/unb-cic-iot-dataset"
      ],
      "metadata": {
        "colab": {
          "base_uri": "https://localhost:8080/"
        },
        "id": "yK_3Gl4sUxA6",
        "outputId": "583e9668-0a4a-436b-d924-c6e2ff9aa810"
      },
      "execution_count": null,
      "outputs": [
        {
          "output_type": "stream",
          "name": "stdout",
          "text": [
            "Warning: Your Kaggle API key is readable by other users on this system! To fix this, you can run 'chmod 600 /content/kaggle.json'\n",
            "Dataset URL: https://www.kaggle.com/datasets/madhavmalhotra/unb-cic-iot-dataset\n",
            "License(s): other\n",
            "Downloading unb-cic-iot-dataset.zip to /content\n",
            "100% 2.77G/2.77G [00:28<00:00, 68.0MB/s]\n",
            "100% 2.77G/2.77G [00:28<00:00, 104MB/s] \n"
          ]
        }
      ]
    },
    {
      "cell_type": "code",
      "source": [
        "! chmod 600 /content/kaggle.json"
      ],
      "metadata": {
        "id": "ubs7r9J6UxKO"
      },
      "execution_count": null,
      "outputs": []
    },
    {
      "cell_type": "code",
      "source": [
        "! unzip unb-cic-iot-dataset -d data_siap_pakai"
      ],
      "metadata": {
        "colab": {
          "base_uri": "https://localhost:8080/"
        },
        "id": "Amg90TcCUxTN",
        "outputId": "c5794070-bc6a-4a99-f8a0-16b1ff392076"
      },
      "execution_count": null,
      "outputs": [
        {
          "output_type": "stream",
          "name": "stdout",
          "text": [
            "Archive:  unb-cic-iot-dataset.zip\n",
            "  inflating: data_siap_pakai/wataiData/README - README.pdf  \n",
            "  inflating: data_siap_pakai/wataiData/csv/CICIoT2023/part-00000-363d1ba3-8ab5-4f96-bc25-4d5862db7cb9-c000.csv  \n",
            "  inflating: data_siap_pakai/wataiData/csv/CICIoT2023/part-00001-363d1ba3-8ab5-4f96-bc25-4d5862db7cb9-c000.csv  \n",
            "  inflating: data_siap_pakai/wataiData/csv/CICIoT2023/part-00002-363d1ba3-8ab5-4f96-bc25-4d5862db7cb9-c000.csv  \n",
            "  inflating: data_siap_pakai/wataiData/csv/CICIoT2023/part-00003-363d1ba3-8ab5-4f96-bc25-4d5862db7cb9-c000.csv  \n",
            "  inflating: data_siap_pakai/wataiData/csv/CICIoT2023/part-00004-363d1ba3-8ab5-4f96-bc25-4d5862db7cb9-c000.csv  \n",
            "  inflating: data_siap_pakai/wataiData/csv/CICIoT2023/part-00005-363d1ba3-8ab5-4f96-bc25-4d5862db7cb9-c000.csv  \n",
            "  inflating: data_siap_pakai/wataiData/csv/CICIoT2023/part-00006-363d1ba3-8ab5-4f96-bc25-4d5862db7cb9-c000.csv  \n",
            "  inflating: data_siap_pakai/wataiData/csv/CICIoT2023/part-00007-363d1ba3-8ab5-4f96-bc25-4d5862db7cb9-c000.csv  \n",
            "  inflating: data_siap_pakai/wataiData/csv/CICIoT2023/part-00008-363d1ba3-8ab5-4f96-bc25-4d5862db7cb9-c000.csv  \n",
            "  inflating: data_siap_pakai/wataiData/csv/CICIoT2023/part-00009-363d1ba3-8ab5-4f96-bc25-4d5862db7cb9-c000.csv  \n",
            "  inflating: data_siap_pakai/wataiData/csv/CICIoT2023/part-00010-363d1ba3-8ab5-4f96-bc25-4d5862db7cb9-c000.csv  \n",
            "  inflating: data_siap_pakai/wataiData/csv/CICIoT2023/part-00011-363d1ba3-8ab5-4f96-bc25-4d5862db7cb9-c000.csv  \n",
            "  inflating: data_siap_pakai/wataiData/csv/CICIoT2023/part-00012-363d1ba3-8ab5-4f96-bc25-4d5862db7cb9-c000.csv  \n",
            "  inflating: data_siap_pakai/wataiData/csv/CICIoT2023/part-00013-363d1ba3-8ab5-4f96-bc25-4d5862db7cb9-c000.csv  \n",
            "  inflating: data_siap_pakai/wataiData/csv/CICIoT2023/part-00014-363d1ba3-8ab5-4f96-bc25-4d5862db7cb9-c000.csv  \n",
            "  inflating: data_siap_pakai/wataiData/csv/CICIoT2023/part-00015-363d1ba3-8ab5-4f96-bc25-4d5862db7cb9-c000.csv  \n",
            "  inflating: data_siap_pakai/wataiData/csv/CICIoT2023/part-00016-363d1ba3-8ab5-4f96-bc25-4d5862db7cb9-c000.csv  \n",
            "  inflating: data_siap_pakai/wataiData/csv/CICIoT2023/part-00017-363d1ba3-8ab5-4f96-bc25-4d5862db7cb9-c000.csv  \n",
            "  inflating: data_siap_pakai/wataiData/csv/CICIoT2023/part-00018-363d1ba3-8ab5-4f96-bc25-4d5862db7cb9-c000.csv  \n",
            "  inflating: data_siap_pakai/wataiData/csv/CICIoT2023/part-00019-363d1ba3-8ab5-4f96-bc25-4d5862db7cb9-c000.csv  \n",
            "  inflating: data_siap_pakai/wataiData/csv/CICIoT2023/part-00020-363d1ba3-8ab5-4f96-bc25-4d5862db7cb9-c000.csv  \n",
            "  inflating: data_siap_pakai/wataiData/csv/CICIoT2023/part-00021-363d1ba3-8ab5-4f96-bc25-4d5862db7cb9-c000.csv  \n",
            "  inflating: data_siap_pakai/wataiData/csv/CICIoT2023/part-00022-363d1ba3-8ab5-4f96-bc25-4d5862db7cb9-c000.csv  \n",
            "  inflating: data_siap_pakai/wataiData/csv/CICIoT2023/part-00023-363d1ba3-8ab5-4f96-bc25-4d5862db7cb9-c000.csv  \n",
            "  inflating: data_siap_pakai/wataiData/csv/CICIoT2023/part-00024-363d1ba3-8ab5-4f96-bc25-4d5862db7cb9-c000.csv  \n",
            "  inflating: data_siap_pakai/wataiData/csv/CICIoT2023/part-00025-363d1ba3-8ab5-4f96-bc25-4d5862db7cb9-c000.csv  \n",
            "  inflating: data_siap_pakai/wataiData/csv/CICIoT2023/part-00026-363d1ba3-8ab5-4f96-bc25-4d5862db7cb9-c000.csv  \n",
            "  inflating: data_siap_pakai/wataiData/csv/CICIoT2023/part-00027-363d1ba3-8ab5-4f96-bc25-4d5862db7cb9-c000.csv  \n",
            "  inflating: data_siap_pakai/wataiData/csv/CICIoT2023/part-00028-363d1ba3-8ab5-4f96-bc25-4d5862db7cb9-c000.csv  \n",
            "  inflating: data_siap_pakai/wataiData/csv/CICIoT2023/part-00029-363d1ba3-8ab5-4f96-bc25-4d5862db7cb9-c000.csv  \n",
            "  inflating: data_siap_pakai/wataiData/csv/CICIoT2023/part-00030-363d1ba3-8ab5-4f96-bc25-4d5862db7cb9-c000.csv  \n",
            "  inflating: data_siap_pakai/wataiData/csv/CICIoT2023/part-00031-363d1ba3-8ab5-4f96-bc25-4d5862db7cb9-c000.csv  \n",
            "  inflating: data_siap_pakai/wataiData/csv/CICIoT2023/part-00032-363d1ba3-8ab5-4f96-bc25-4d5862db7cb9-c000.csv  \n",
            "  inflating: data_siap_pakai/wataiData/csv/CICIoT2023/part-00033-363d1ba3-8ab5-4f96-bc25-4d5862db7cb9-c000.csv  \n",
            "  inflating: data_siap_pakai/wataiData/csv/CICIoT2023/part-00034-363d1ba3-8ab5-4f96-bc25-4d5862db7cb9-c000.csv  \n",
            "  inflating: data_siap_pakai/wataiData/csv/CICIoT2023/part-00035-363d1ba3-8ab5-4f96-bc25-4d5862db7cb9-c000.csv  \n",
            "  inflating: data_siap_pakai/wataiData/csv/CICIoT2023/part-00036-363d1ba3-8ab5-4f96-bc25-4d5862db7cb9-c000.csv  \n",
            "  inflating: data_siap_pakai/wataiData/csv/CICIoT2023/part-00037-363d1ba3-8ab5-4f96-bc25-4d5862db7cb9-c000.csv  \n",
            "  inflating: data_siap_pakai/wataiData/csv/CICIoT2023/part-00038-363d1ba3-8ab5-4f96-bc25-4d5862db7cb9-c000.csv  \n",
            "  inflating: data_siap_pakai/wataiData/csv/CICIoT2023/part-00039-363d1ba3-8ab5-4f96-bc25-4d5862db7cb9-c000.csv  \n",
            "  inflating: data_siap_pakai/wataiData/csv/CICIoT2023/part-00040-363d1ba3-8ab5-4f96-bc25-4d5862db7cb9-c000.csv  \n",
            "  inflating: data_siap_pakai/wataiData/csv/CICIoT2023/part-00041-363d1ba3-8ab5-4f96-bc25-4d5862db7cb9-c000.csv  \n",
            "  inflating: data_siap_pakai/wataiData/csv/CICIoT2023/part-00042-363d1ba3-8ab5-4f96-bc25-4d5862db7cb9-c000.csv  \n",
            "  inflating: data_siap_pakai/wataiData/csv/CICIoT2023/part-00043-363d1ba3-8ab5-4f96-bc25-4d5862db7cb9-c000.csv  \n",
            "  inflating: data_siap_pakai/wataiData/csv/CICIoT2023/part-00044-363d1ba3-8ab5-4f96-bc25-4d5862db7cb9-c000.csv  \n",
            "  inflating: data_siap_pakai/wataiData/csv/CICIoT2023/part-00045-363d1ba3-8ab5-4f96-bc25-4d5862db7cb9-c000.csv  \n",
            "  inflating: data_siap_pakai/wataiData/csv/CICIoT2023/part-00046-363d1ba3-8ab5-4f96-bc25-4d5862db7cb9-c000.csv  \n",
            "  inflating: data_siap_pakai/wataiData/csv/CICIoT2023/part-00047-363d1ba3-8ab5-4f96-bc25-4d5862db7cb9-c000.csv  \n",
            "  inflating: data_siap_pakai/wataiData/csv/CICIoT2023/part-00048-363d1ba3-8ab5-4f96-bc25-4d5862db7cb9-c000.csv  \n",
            "  inflating: data_siap_pakai/wataiData/csv/CICIoT2023/part-00049-363d1ba3-8ab5-4f96-bc25-4d5862db7cb9-c000.csv  \n",
            "  inflating: data_siap_pakai/wataiData/csv/CICIoT2023/part-00050-363d1ba3-8ab5-4f96-bc25-4d5862db7cb9-c000.csv  \n",
            "  inflating: data_siap_pakai/wataiData/csv/CICIoT2023/part-00051-363d1ba3-8ab5-4f96-bc25-4d5862db7cb9-c000.csv  \n",
            "  inflating: data_siap_pakai/wataiData/csv/CICIoT2023/part-00052-363d1ba3-8ab5-4f96-bc25-4d5862db7cb9-c000.csv  \n",
            "  inflating: data_siap_pakai/wataiData/csv/CICIoT2023/part-00053-363d1ba3-8ab5-4f96-bc25-4d5862db7cb9-c000.csv  \n",
            "  inflating: data_siap_pakai/wataiData/csv/CICIoT2023/part-00054-363d1ba3-8ab5-4f96-bc25-4d5862db7cb9-c000.csv  \n",
            "  inflating: data_siap_pakai/wataiData/csv/CICIoT2023/part-00055-363d1ba3-8ab5-4f96-bc25-4d5862db7cb9-c000.csv  \n",
            "  inflating: data_siap_pakai/wataiData/csv/CICIoT2023/part-00056-363d1ba3-8ab5-4f96-bc25-4d5862db7cb9-c000.csv  \n",
            "  inflating: data_siap_pakai/wataiData/csv/CICIoT2023/part-00057-363d1ba3-8ab5-4f96-bc25-4d5862db7cb9-c000.csv  \n",
            "  inflating: data_siap_pakai/wataiData/csv/CICIoT2023/part-00058-363d1ba3-8ab5-4f96-bc25-4d5862db7cb9-c000.csv  \n",
            "  inflating: data_siap_pakai/wataiData/csv/CICIoT2023/part-00059-363d1ba3-8ab5-4f96-bc25-4d5862db7cb9-c000.csv  \n",
            "  inflating: data_siap_pakai/wataiData/csv/CICIoT2023/part-00060-363d1ba3-8ab5-4f96-bc25-4d5862db7cb9-c000.csv  \n",
            "  inflating: data_siap_pakai/wataiData/csv/CICIoT2023/part-00061-363d1ba3-8ab5-4f96-bc25-4d5862db7cb9-c000.csv  \n",
            "  inflating: data_siap_pakai/wataiData/csv/CICIoT2023/part-00062-363d1ba3-8ab5-4f96-bc25-4d5862db7cb9-c000.csv  \n",
            "  inflating: data_siap_pakai/wataiData/csv/CICIoT2023/part-00063-363d1ba3-8ab5-4f96-bc25-4d5862db7cb9-c000.csv  \n",
            "  inflating: data_siap_pakai/wataiData/csv/CICIoT2023/part-00064-363d1ba3-8ab5-4f96-bc25-4d5862db7cb9-c000.csv  \n",
            "  inflating: data_siap_pakai/wataiData/csv/CICIoT2023/part-00065-363d1ba3-8ab5-4f96-bc25-4d5862db7cb9-c000.csv  \n",
            "  inflating: data_siap_pakai/wataiData/csv/CICIoT2023/part-00066-363d1ba3-8ab5-4f96-bc25-4d5862db7cb9-c000.csv  \n",
            "  inflating: data_siap_pakai/wataiData/csv/CICIoT2023/part-00067-363d1ba3-8ab5-4f96-bc25-4d5862db7cb9-c000.csv  \n",
            "  inflating: data_siap_pakai/wataiData/csv/CICIoT2023/part-00068-363d1ba3-8ab5-4f96-bc25-4d5862db7cb9-c000.csv  \n",
            "  inflating: data_siap_pakai/wataiData/csv/CICIoT2023/part-00069-363d1ba3-8ab5-4f96-bc25-4d5862db7cb9-c000.csv  \n",
            "  inflating: data_siap_pakai/wataiData/csv/CICIoT2023/part-00070-363d1ba3-8ab5-4f96-bc25-4d5862db7cb9-c000.csv  \n",
            "  inflating: data_siap_pakai/wataiData/csv/CICIoT2023/part-00071-363d1ba3-8ab5-4f96-bc25-4d5862db7cb9-c000.csv  \n",
            "  inflating: data_siap_pakai/wataiData/csv/CICIoT2023/part-00072-363d1ba3-8ab5-4f96-bc25-4d5862db7cb9-c000.csv  \n",
            "  inflating: data_siap_pakai/wataiData/csv/CICIoT2023/part-00073-363d1ba3-8ab5-4f96-bc25-4d5862db7cb9-c000.csv  \n",
            "  inflating: data_siap_pakai/wataiData/csv/CICIoT2023/part-00074-363d1ba3-8ab5-4f96-bc25-4d5862db7cb9-c000.csv  \n",
            "  inflating: data_siap_pakai/wataiData/csv/CICIoT2023/part-00075-363d1ba3-8ab5-4f96-bc25-4d5862db7cb9-c000.csv  \n",
            "  inflating: data_siap_pakai/wataiData/csv/CICIoT2023/part-00076-363d1ba3-8ab5-4f96-bc25-4d5862db7cb9-c000.csv  \n",
            "  inflating: data_siap_pakai/wataiData/csv/CICIoT2023/part-00077-363d1ba3-8ab5-4f96-bc25-4d5862db7cb9-c000.csv  \n",
            "  inflating: data_siap_pakai/wataiData/csv/CICIoT2023/part-00078-363d1ba3-8ab5-4f96-bc25-4d5862db7cb9-c000.csv  \n",
            "  inflating: data_siap_pakai/wataiData/csv/CICIoT2023/part-00079-363d1ba3-8ab5-4f96-bc25-4d5862db7cb9-c000.csv  \n",
            "  inflating: data_siap_pakai/wataiData/csv/CICIoT2023/part-00080-363d1ba3-8ab5-4f96-bc25-4d5862db7cb9-c000.csv  \n",
            "  inflating: data_siap_pakai/wataiData/csv/CICIoT2023/part-00081-363d1ba3-8ab5-4f96-bc25-4d5862db7cb9-c000.csv  \n",
            "  inflating: data_siap_pakai/wataiData/csv/CICIoT2023/part-00082-363d1ba3-8ab5-4f96-bc25-4d5862db7cb9-c000.csv  \n",
            "  inflating: data_siap_pakai/wataiData/csv/CICIoT2023/part-00083-363d1ba3-8ab5-4f96-bc25-4d5862db7cb9-c000.csv  \n",
            "  inflating: data_siap_pakai/wataiData/csv/CICIoT2023/part-00084-363d1ba3-8ab5-4f96-bc25-4d5862db7cb9-c000.csv  \n",
            "  inflating: data_siap_pakai/wataiData/csv/CICIoT2023/part-00085-363d1ba3-8ab5-4f96-bc25-4d5862db7cb9-c000.csv  \n",
            "  inflating: data_siap_pakai/wataiData/csv/CICIoT2023/part-00086-363d1ba3-8ab5-4f96-bc25-4d5862db7cb9-c000.csv  \n",
            "  inflating: data_siap_pakai/wataiData/csv/CICIoT2023/part-00087-363d1ba3-8ab5-4f96-bc25-4d5862db7cb9-c000.csv  \n",
            "  inflating: data_siap_pakai/wataiData/csv/CICIoT2023/part-00088-363d1ba3-8ab5-4f96-bc25-4d5862db7cb9-c000.csv  \n",
            "  inflating: data_siap_pakai/wataiData/csv/CICIoT2023/part-00089-363d1ba3-8ab5-4f96-bc25-4d5862db7cb9-c000.csv  \n",
            "  inflating: data_siap_pakai/wataiData/csv/CICIoT2023/part-00090-363d1ba3-8ab5-4f96-bc25-4d5862db7cb9-c000.csv  \n",
            "  inflating: data_siap_pakai/wataiData/csv/CICIoT2023/part-00091-363d1ba3-8ab5-4f96-bc25-4d5862db7cb9-c000.csv  \n",
            "  inflating: data_siap_pakai/wataiData/csv/CICIoT2023/part-00092-363d1ba3-8ab5-4f96-bc25-4d5862db7cb9-c000.csv  \n",
            "  inflating: data_siap_pakai/wataiData/csv/CICIoT2023/part-00093-363d1ba3-8ab5-4f96-bc25-4d5862db7cb9-c000.csv  \n",
            "  inflating: data_siap_pakai/wataiData/csv/CICIoT2023/part-00094-363d1ba3-8ab5-4f96-bc25-4d5862db7cb9-c000.csv  \n",
            "  inflating: data_siap_pakai/wataiData/csv/CICIoT2023/part-00095-363d1ba3-8ab5-4f96-bc25-4d5862db7cb9-c000.csv  \n",
            "  inflating: data_siap_pakai/wataiData/csv/CICIoT2023/part-00096-363d1ba3-8ab5-4f96-bc25-4d5862db7cb9-c000.csv  \n",
            "  inflating: data_siap_pakai/wataiData/csv/CICIoT2023/part-00097-363d1ba3-8ab5-4f96-bc25-4d5862db7cb9-c000.csv  \n",
            "  inflating: data_siap_pakai/wataiData/csv/CICIoT2023/part-00098-363d1ba3-8ab5-4f96-bc25-4d5862db7cb9-c000.csv  \n",
            "  inflating: data_siap_pakai/wataiData/csv/CICIoT2023/part-00099-363d1ba3-8ab5-4f96-bc25-4d5862db7cb9-c000.csv  \n",
            "  inflating: data_siap_pakai/wataiData/csv/CICIoT2023/part-00100-363d1ba3-8ab5-4f96-bc25-4d5862db7cb9-c000.csv  \n",
            "  inflating: data_siap_pakai/wataiData/csv/CICIoT2023/part-00101-363d1ba3-8ab5-4f96-bc25-4d5862db7cb9-c000.csv  \n",
            "  inflating: data_siap_pakai/wataiData/csv/CICIoT2023/part-00102-363d1ba3-8ab5-4f96-bc25-4d5862db7cb9-c000.csv  \n",
            "  inflating: data_siap_pakai/wataiData/csv/CICIoT2023/part-00103-363d1ba3-8ab5-4f96-bc25-4d5862db7cb9-c000.csv  \n",
            "  inflating: data_siap_pakai/wataiData/csv/CICIoT2023/part-00104-363d1ba3-8ab5-4f96-bc25-4d5862db7cb9-c000.csv  \n",
            "  inflating: data_siap_pakai/wataiData/csv/CICIoT2023/part-00105-363d1ba3-8ab5-4f96-bc25-4d5862db7cb9-c000.csv  \n",
            "  inflating: data_siap_pakai/wataiData/csv/CICIoT2023/part-00106-363d1ba3-8ab5-4f96-bc25-4d5862db7cb9-c000.csv  \n",
            "  inflating: data_siap_pakai/wataiData/csv/CICIoT2023/part-00107-363d1ba3-8ab5-4f96-bc25-4d5862db7cb9-c000.csv  \n",
            "  inflating: data_siap_pakai/wataiData/csv/CICIoT2023/part-00108-363d1ba3-8ab5-4f96-bc25-4d5862db7cb9-c000.csv  \n",
            "  inflating: data_siap_pakai/wataiData/csv/CICIoT2023/part-00109-363d1ba3-8ab5-4f96-bc25-4d5862db7cb9-c000.csv  \n",
            "  inflating: data_siap_pakai/wataiData/csv/CICIoT2023/part-00110-363d1ba3-8ab5-4f96-bc25-4d5862db7cb9-c000.csv  \n",
            "  inflating: data_siap_pakai/wataiData/csv/CICIoT2023/part-00111-363d1ba3-8ab5-4f96-bc25-4d5862db7cb9-c000.csv  \n",
            "  inflating: data_siap_pakai/wataiData/csv/CICIoT2023/part-00112-363d1ba3-8ab5-4f96-bc25-4d5862db7cb9-c000.csv  \n",
            "  inflating: data_siap_pakai/wataiData/csv/CICIoT2023/part-00113-363d1ba3-8ab5-4f96-bc25-4d5862db7cb9-c000.csv  \n",
            "  inflating: data_siap_pakai/wataiData/csv/CICIoT2023/part-00114-363d1ba3-8ab5-4f96-bc25-4d5862db7cb9-c000.csv  \n",
            "  inflating: data_siap_pakai/wataiData/csv/CICIoT2023/part-00115-363d1ba3-8ab5-4f96-bc25-4d5862db7cb9-c000.csv  \n",
            "  inflating: data_siap_pakai/wataiData/csv/CICIoT2023/part-00116-363d1ba3-8ab5-4f96-bc25-4d5862db7cb9-c000.csv  \n",
            "  inflating: data_siap_pakai/wataiData/csv/CICIoT2023/part-00117-363d1ba3-8ab5-4f96-bc25-4d5862db7cb9-c000.csv  \n",
            "  inflating: data_siap_pakai/wataiData/csv/CICIoT2023/part-00118-363d1ba3-8ab5-4f96-bc25-4d5862db7cb9-c000.csv  \n",
            "  inflating: data_siap_pakai/wataiData/csv/CICIoT2023/part-00119-363d1ba3-8ab5-4f96-bc25-4d5862db7cb9-c000.csv  \n",
            "  inflating: data_siap_pakai/wataiData/csv/CICIoT2023/part-00120-363d1ba3-8ab5-4f96-bc25-4d5862db7cb9-c000.csv  \n",
            "  inflating: data_siap_pakai/wataiData/csv/CICIoT2023/part-00121-363d1ba3-8ab5-4f96-bc25-4d5862db7cb9-c000.csv  \n",
            "  inflating: data_siap_pakai/wataiData/csv/CICIoT2023/part-00122-363d1ba3-8ab5-4f96-bc25-4d5862db7cb9-c000.csv  \n",
            "  inflating: data_siap_pakai/wataiData/csv/CICIoT2023/part-00123-363d1ba3-8ab5-4f96-bc25-4d5862db7cb9-c000.csv  \n",
            "  inflating: data_siap_pakai/wataiData/csv/CICIoT2023/part-00124-363d1ba3-8ab5-4f96-bc25-4d5862db7cb9-c000.csv  \n",
            "  inflating: data_siap_pakai/wataiData/csv/CICIoT2023/part-00125-363d1ba3-8ab5-4f96-bc25-4d5862db7cb9-c000.csv  \n",
            "  inflating: data_siap_pakai/wataiData/csv/CICIoT2023/part-00126-363d1ba3-8ab5-4f96-bc25-4d5862db7cb9-c000.csv  \n",
            "  inflating: data_siap_pakai/wataiData/csv/CICIoT2023/part-00127-363d1ba3-8ab5-4f96-bc25-4d5862db7cb9-c000.csv  \n",
            "  inflating: data_siap_pakai/wataiData/csv/CICIoT2023/part-00128-363d1ba3-8ab5-4f96-bc25-4d5862db7cb9-c000.csv  \n",
            "  inflating: data_siap_pakai/wataiData/csv/CICIoT2023/part-00129-363d1ba3-8ab5-4f96-bc25-4d5862db7cb9-c000.csv  \n",
            "  inflating: data_siap_pakai/wataiData/csv/CICIoT2023/part-00130-363d1ba3-8ab5-4f96-bc25-4d5862db7cb9-c000.csv  \n",
            "  inflating: data_siap_pakai/wataiData/csv/CICIoT2023/part-00131-363d1ba3-8ab5-4f96-bc25-4d5862db7cb9-c000.csv  \n",
            "  inflating: data_siap_pakai/wataiData/csv/CICIoT2023/part-00132-363d1ba3-8ab5-4f96-bc25-4d5862db7cb9-c000.csv  \n",
            "  inflating: data_siap_pakai/wataiData/csv/CICIoT2023/part-00133-363d1ba3-8ab5-4f96-bc25-4d5862db7cb9-c000.csv  \n",
            "  inflating: data_siap_pakai/wataiData/csv/CICIoT2023/part-00134-363d1ba3-8ab5-4f96-bc25-4d5862db7cb9-c000.csv  \n",
            "  inflating: data_siap_pakai/wataiData/csv/CICIoT2023/part-00135-363d1ba3-8ab5-4f96-bc25-4d5862db7cb9-c000.csv  \n",
            "  inflating: data_siap_pakai/wataiData/csv/CICIoT2023/part-00136-363d1ba3-8ab5-4f96-bc25-4d5862db7cb9-c000.csv  \n",
            "  inflating: data_siap_pakai/wataiData/csv/CICIoT2023/part-00137-363d1ba3-8ab5-4f96-bc25-4d5862db7cb9-c000.csv  \n",
            "  inflating: data_siap_pakai/wataiData/csv/CICIoT2023/part-00138-363d1ba3-8ab5-4f96-bc25-4d5862db7cb9-c000.csv  \n",
            "  inflating: data_siap_pakai/wataiData/csv/CICIoT2023/part-00139-363d1ba3-8ab5-4f96-bc25-4d5862db7cb9-c000.csv  \n",
            "  inflating: data_siap_pakai/wataiData/csv/CICIoT2023/part-00140-363d1ba3-8ab5-4f96-bc25-4d5862db7cb9-c000.csv  \n",
            "  inflating: data_siap_pakai/wataiData/csv/CICIoT2023/part-00141-363d1ba3-8ab5-4f96-bc25-4d5862db7cb9-c000.csv  \n",
            "  inflating: data_siap_pakai/wataiData/csv/CICIoT2023/part-00142-363d1ba3-8ab5-4f96-bc25-4d5862db7cb9-c000.csv  \n",
            "  inflating: data_siap_pakai/wataiData/csv/CICIoT2023/part-00143-363d1ba3-8ab5-4f96-bc25-4d5862db7cb9-c000.csv  \n",
            "  inflating: data_siap_pakai/wataiData/csv/CICIoT2023/part-00144-363d1ba3-8ab5-4f96-bc25-4d5862db7cb9-c000.csv  \n",
            "  inflating: data_siap_pakai/wataiData/csv/CICIoT2023/part-00145-363d1ba3-8ab5-4f96-bc25-4d5862db7cb9-c000.csv  \n",
            "  inflating: data_siap_pakai/wataiData/csv/CICIoT2023/part-00146-363d1ba3-8ab5-4f96-bc25-4d5862db7cb9-c000.csv  \n",
            "  inflating: data_siap_pakai/wataiData/csv/CICIoT2023/part-00147-363d1ba3-8ab5-4f96-bc25-4d5862db7cb9-c000.csv  \n",
            "  inflating: data_siap_pakai/wataiData/csv/CICIoT2023/part-00148-363d1ba3-8ab5-4f96-bc25-4d5862db7cb9-c000.csv  \n",
            "  inflating: data_siap_pakai/wataiData/csv/CICIoT2023/part-00149-363d1ba3-8ab5-4f96-bc25-4d5862db7cb9-c000.csv  \n",
            "  inflating: data_siap_pakai/wataiData/csv/CICIoT2023/part-00150-363d1ba3-8ab5-4f96-bc25-4d5862db7cb9-c000.csv  \n",
            "  inflating: data_siap_pakai/wataiData/csv/CICIoT2023/part-00151-363d1ba3-8ab5-4f96-bc25-4d5862db7cb9-c000.csv  \n",
            "  inflating: data_siap_pakai/wataiData/csv/CICIoT2023/part-00152-363d1ba3-8ab5-4f96-bc25-4d5862db7cb9-c000.csv  \n",
            "  inflating: data_siap_pakai/wataiData/csv/CICIoT2023/part-00153-363d1ba3-8ab5-4f96-bc25-4d5862db7cb9-c000.csv  \n",
            "  inflating: data_siap_pakai/wataiData/csv/CICIoT2023/part-00154-363d1ba3-8ab5-4f96-bc25-4d5862db7cb9-c000.csv  \n",
            "  inflating: data_siap_pakai/wataiData/csv/CICIoT2023/part-00155-363d1ba3-8ab5-4f96-bc25-4d5862db7cb9-c000.csv  \n",
            "  inflating: data_siap_pakai/wataiData/csv/CICIoT2023/part-00156-363d1ba3-8ab5-4f96-bc25-4d5862db7cb9-c000.csv  \n",
            "  inflating: data_siap_pakai/wataiData/csv/CICIoT2023/part-00157-363d1ba3-8ab5-4f96-bc25-4d5862db7cb9-c000.csv  \n",
            "  inflating: data_siap_pakai/wataiData/csv/CICIoT2023/part-00158-363d1ba3-8ab5-4f96-bc25-4d5862db7cb9-c000.csv  \n",
            "  inflating: data_siap_pakai/wataiData/csv/CICIoT2023/part-00159-363d1ba3-8ab5-4f96-bc25-4d5862db7cb9-c000.csv  \n",
            "  inflating: data_siap_pakai/wataiData/csv/CICIoT2023/part-00160-363d1ba3-8ab5-4f96-bc25-4d5862db7cb9-c000.csv  \n",
            "  inflating: data_siap_pakai/wataiData/csv/CICIoT2023/part-00161-363d1ba3-8ab5-4f96-bc25-4d5862db7cb9-c000.csv  \n",
            "  inflating: data_siap_pakai/wataiData/csv/CICIoT2023/part-00162-363d1ba3-8ab5-4f96-bc25-4d5862db7cb9-c000.csv  \n",
            "  inflating: data_siap_pakai/wataiData/csv/CICIoT2023/part-00163-363d1ba3-8ab5-4f96-bc25-4d5862db7cb9-c000.csv  \n",
            "  inflating: data_siap_pakai/wataiData/csv/CICIoT2023/part-00164-363d1ba3-8ab5-4f96-bc25-4d5862db7cb9-c000.csv  \n",
            "  inflating: data_siap_pakai/wataiData/csv/CICIoT2023/part-00165-363d1ba3-8ab5-4f96-bc25-4d5862db7cb9-c000.csv  \n",
            "  inflating: data_siap_pakai/wataiData/csv/CICIoT2023/part-00166-363d1ba3-8ab5-4f96-bc25-4d5862db7cb9-c000.csv  \n",
            "  inflating: data_siap_pakai/wataiData/csv/CICIoT2023/part-00167-363d1ba3-8ab5-4f96-bc25-4d5862db7cb9-c000.csv  \n",
            "  inflating: data_siap_pakai/wataiData/csv/CICIoT2023/part-00168-363d1ba3-8ab5-4f96-bc25-4d5862db7cb9-c000.csv  \n",
            "  inflating: data_siap_pakai/wataiData/csv/README_csv - README.pdf  \n",
            "  inflating: data_siap_pakai/wataiData/example/example.ipynb  \n",
            "  inflating: data_siap_pakai/wataiData/supplementary/README.pdf  \n",
            "  inflating: data_siap_pakai/wataiData/supplementary/pcap2csv/Communication_features.py  \n",
            "  inflating: data_siap_pakai/wataiData/supplementary/pcap2csv/Connectivity_features.py  \n",
            "  inflating: data_siap_pakai/wataiData/supplementary/pcap2csv/Dynamic_features.py  \n",
            "  inflating: data_siap_pakai/wataiData/supplementary/pcap2csv/Feature_extraction.py  \n",
            "  inflating: data_siap_pakai/wataiData/supplementary/pcap2csv/Generating_dataset.py  \n",
            "  inflating: data_siap_pakai/wataiData/supplementary/pcap2csv/Layered_features.py  \n",
            "  inflating: data_siap_pakai/wataiData/supplementary/pcap2csv/Supporting_functions.py  \n",
            "  inflating: data_siap_pakai/wataiData/supplementary/tools/DPKT.txt  \n",
            "  inflating: data_siap_pakai/wataiData/supplementary/tools/Pyspark.txt  \n",
            "  inflating: data_siap_pakai/wataiData/supplementary/tools/Tcpdump  \n",
            "  inflating: data_siap_pakai/wataiData/supplementary/tools/mergecap.txt  \n"
          ]
        }
      ]
    },
    {
      "cell_type": "code",
      "source": [
        "import pandas as pd\n",
        "import numpy as np\n",
        "from tqdm import tqdm\n",
        "import warnings\n",
        "warnings.filterwarnings('ignore')"
      ],
      "metadata": {
        "id": "AADVF3kAUxr2"
      },
      "execution_count": null,
      "outputs": []
    },
    {
      "cell_type": "code",
      "source": [
        "rootFolder = 'data_siap_pakai/'\n",
        "dataFolder = rootFolder+\"wataiData/\"\n",
        "csvFolder = dataFolder+\"csv/\"\n",
        "datasetFolder = csvFolder+\"datasets/\""
      ],
      "metadata": {
        "id": "NVQ1EJXkUx1u"
      },
      "execution_count": null,
      "outputs": []
    },
    {
      "cell_type": "markdown",
      "source": [
        "## Membaca Dataset"
      ],
      "metadata": {
        "id": "xIxwqoQIVSs3"
      }
    },
    {
      "cell_type": "code",
      "source": [
        "df_sets = [k for k in os.listdir(datasetFolder) if k.endswith('.csv')]\n",
        "df_sets.sort()\n",
        "training_sets = df_sets[:int(len(df_sets)*.8)]\n",
        "test_sets = df_sets[int(len(df_sets)*.8):]"
      ],
      "metadata": {
        "id": "sC7uOKJDVMiL"
      },
      "execution_count": null,
      "outputs": []
    },
    {
      "cell_type": "code",
      "source": [
        "X_columns = [\n",
        "    'flow_duration', 'Header_Length', 'Protocol Type', 'Duration',\n",
        "       'Rate', 'Srate', 'Drate', 'fin_flag_number', 'syn_flag_number',\n",
        "       'rst_flag_number', 'psh_flag_number', 'ack_flag_number',\n",
        "       'ece_flag_number', 'cwr_flag_number', 'ack_count',\n",
        "       'syn_count', 'fin_count', 'urg_count', 'rst_count',\n",
        "    'HTTP', 'HTTPS', 'DNS', 'Telnet', 'SMTP', 'SSH', 'IRC', 'TCP',\n",
        "       'UDP', 'DHCP', 'ARP', 'ICMP', 'IPv', 'LLC', 'Tot sum', 'Min',\n",
        "       'Max', 'AVG', 'Std', 'Tot size', 'IAT', 'Number', 'Magnitue',\n",
        "       'Radius', 'Covariance', 'Variance', 'Weight',\n",
        "]\n",
        "y_column = 'label'"
      ],
      "metadata": {
        "id": "1oMtU2pgVRfB"
      },
      "execution_count": null,
      "outputs": []
    },
    {
      "cell_type": "markdown",
      "source": [
        "## Scaling"
      ],
      "metadata": {
        "id": "Km7sITp4VazQ"
      }
    },
    {
      "cell_type": "code",
      "source": [
        "from sklearn.preprocessing import MinMaxScaler, StandardScaler\n",
        "from sklearn.ensemble import RandomForestClassifier\n",
        "from sklearn.metrics import accuracy_score, classification_report\n",
        "scaler = StandardScaler()"
      ],
      "metadata": {
        "id": "sa7xd0XcVRl3"
      },
      "execution_count": null,
      "outputs": []
    },
    {
      "cell_type": "code",
      "source": [
        "for train_set in tqdm(training_sets):\n",
        "    scaler.fit(pd.read_csv(datasetFolder + train_set)[X_columns])"
      ],
      "metadata": {
        "colab": {
          "base_uri": "https://localhost:8080/"
        },
        "id": "y6kzDtNgVaEW",
        "outputId": "bc6fbd0b-108d-431d-8d69-85a266b3c748"
      },
      "execution_count": null,
      "outputs": [
        {
          "output_type": "stream",
          "name": "stderr",
          "text": [
            "100%|██████████| 135/135 [05:16<00:00,  2.34s/it]\n"
          ]
        }
      ]
    },
    {
      "cell_type": "markdown",
      "source": [
        "## Training"
      ],
      "metadata": {
        "id": "8-xfUCuaVkWW"
      }
    },
    {
      "cell_type": "code",
      "source": [
        "# Initialize the Random Forest classifier\n",
        "rf_model = RandomForestClassifier(n_estimators=100, random_state=42)\n",
        "\n",
        "# Train the model using the training data\n",
        "for train_set in tqdm(training_sets):\n",
        "    df_train = pd.read_csv(datasetFolder + train_set)\n",
        "    X_train = scaler.transform(df_train[X_columns])\n",
        "    y_train = df_train[y_column]  # assuming 'class' is the target column name\n",
        "    rf_model.fit(X_train, y_train)\n"
      ],
      "metadata": {
        "colab": {
          "base_uri": "https://localhost:8080/"
        },
        "id": "EtNzfJyJVaLU",
        "outputId": "099b2b28-bd14-44d5-d86c-ecdfadda56b1"
      },
      "execution_count": null,
      "outputs": [
        {
          "output_type": "stream",
          "name": "stderr",
          "text": [
            "100%|██████████| 135/135 [2:19:11<00:00, 61.87s/it]\n"
          ]
        }
      ]
    },
    {
      "cell_type": "markdown",
      "source": [
        "## Evaluation"
      ],
      "metadata": {
        "id": "n2irp7zPZD0i"
      }
    },
    {
      "cell_type": "code",
      "source": [
        "# Evaluate the model using the test data\n",
        "all_predictions = []\n",
        "all_true_labels = []\n",
        "\n",
        "for test_set in tqdm(test_sets):\n",
        "    df_test = pd.read_csv(datasetFolder + test_set)\n",
        "    X_test = scaler.transform(df_test[X_columns])\n",
        "    y_test = df_test[y_column]  # assuming 'class' is the target column name\n",
        "    predictions = rf_model.predict(X_test)\n",
        "\n",
        "    all_predictions.extend(predictions)\n",
        "    all_true_labels.extend(y_test)"
      ],
      "metadata": {
        "id": "QCpGOsU6VRsz",
        "colab": {
          "base_uri": "https://localhost:8080/"
        },
        "outputId": "793551e9-b870-4cc9-e91c-323c2305de9c"
      },
      "execution_count": null,
      "outputs": [
        {
          "output_type": "stream",
          "name": "stderr",
          "text": [
            "100%|██████████| 34/34 [07:50<00:00, 13.84s/it]\n"
          ]
        }
      ]
    },
    {
      "cell_type": "code",
      "source": [
        "# Calculate accuracy and other metrics\n",
        "accuracy = accuracy_score(all_true_labels, all_predictions)\n",
        "report = classification_report(all_true_labels, all_predictions)"
      ],
      "metadata": {
        "id": "ZDOOJW5tVMqD"
      },
      "execution_count": null,
      "outputs": []
    },
    {
      "cell_type": "code",
      "source": [
        "print(f\"Accuracy: {accuracy}\")\n",
        "print(f\"Classification Report:\\n{report}\")"
      ],
      "metadata": {
        "id": "UzvWeIzGVMxq",
        "colab": {
          "base_uri": "https://localhost:8080/"
        },
        "outputId": "eb7777ed-281d-4c0a-ebf4-fee532018025"
      },
      "execution_count": null,
      "outputs": [
        {
          "output_type": "stream",
          "name": "stdout",
          "text": [
            "Accuracy: 0.9915748894045266\n",
            "Classification Report:\n",
            "                         precision    recall  f1-score   support\n",
            "\n",
            "       Backdoor_Malware       0.50      0.00      0.01       728\n",
            "          BenignTraffic       0.85      0.98      0.91    243322\n",
            "       BrowserHijacking       0.57      0.08      0.13      1250\n",
            "       CommandInjection       0.67      0.07      0.13      1154\n",
            " DDoS-ACK_Fragmentation       0.99      0.99      0.99     62723\n",
            "        DDoS-HTTP_Flood       0.97      0.88      0.92      6450\n",
            "        DDoS-ICMP_Flood       1.00      1.00      1.00   1594776\n",
            "DDoS-ICMP_Fragmentation       0.99      0.99      0.99    100723\n",
            "      DDoS-PSHACK_Flood       1.00      1.00      1.00    907911\n",
            "       DDoS-RSTFINFlood       1.00      1.00      1.00    896126\n",
            "         DDoS-SYN_Flood       1.00      1.00      1.00    900820\n",
            "         DDoS-SlowLoris       0.76      0.94      0.84      5278\n",
            "DDoS-SynonymousIP_Flood       1.00      1.00      1.00    795606\n",
            "         DDoS-TCP_Flood       1.00      1.00      1.00    996211\n",
            "         DDoS-UDP_Flood       1.00      1.00      1.00   1196417\n",
            " DDoS-UDP_Fragmentation       0.99      0.99      0.99     63110\n",
            "           DNS_Spoofing       0.76      0.65      0.70     39810\n",
            "   DictionaryBruteForce       0.77      0.03      0.06      2983\n",
            "         DoS-HTTP_Flood       0.95      0.98      0.97     15758\n",
            "          DoS-SYN_Flood       1.00      1.00      1.00    449881\n",
            "          DoS-TCP_Flood       1.00      1.00      1.00    591960\n",
            "          DoS-UDP_Flood       1.00      1.00      1.00    734568\n",
            "       MITM-ArpSpoofing       0.86      0.80      0.83     67988\n",
            "     Mirai-greeth_flood       1.00      1.00      1.00    220108\n",
            "      Mirai-greip_flood       1.00      0.99      1.00    166195\n",
            "         Mirai-udpplain       1.00      1.00      1.00    197374\n",
            "    Recon-HostDiscovery       0.80      0.78      0.79     29763\n",
            "           Recon-OSScan       0.71      0.36      0.48     21696\n",
            "        Recon-PingSweep       0.31      0.01      0.02       520\n",
            "         Recon-PortScan       0.69      0.41      0.51     18429\n",
            "           SqlInjection       0.60      0.00      0.01      1160\n",
            "       Uploading_Attack       0.00      0.00      0.00       263\n",
            "      VulnerabilityScan       0.85      0.94      0.89      8222\n",
            "                    XSS       0.16      0.01      0.02       878\n",
            "\n",
            "               accuracy                           0.99  10340161\n",
            "              macro avg       0.82      0.70      0.71  10340161\n",
            "           weighted avg       0.99      0.99      0.99  10340161\n",
            "\n"
          ]
        }
      ]
    }
  ]
}